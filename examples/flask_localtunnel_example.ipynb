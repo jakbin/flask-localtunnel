{
  "nbformat": 4,
  "nbformat_minor": 0,
  "metadata": {
    "colab": {
      "name": "flask-ngrok-example.ipynb",
      "version": "0.3.2",
      "provenance": [],
      "collapsed_sections": []
    },
    "kernelspec": {
      "name": "python3",
      "display_name": "Python 3"
    }
  },
  "cells": [
    {
      "metadata": {
        "id": "1cljkrUaPeyg",
        "colab_type": "code",
        "colab": {}
      },
      "cell_type": "code",
      "source": [
        "!pip install flask-localtunnel\n",
        "!pip install flask "      ],
      "execution_count": 0,
      "outputs": []
    },
    {
      "metadata": {
        "id": "H39hVXhiPtBo",
        "colab_type": "code",
        "colab": {}
      },
      "cell_type": "code",
      "source": [
        "# flask_ngrok_example.py\n",
        "from flask import Flask\n",
        "from flask_lt import run_with_lt\n",
        "\n",
        "app = Flask(__name__)\n",
        "run_with_lt(app)\n",
        "\n",
        "@app.route(\"/\")\n",
        "def hello():\n",
        "    return \"Hello World!\"\n",
        "\n",
        "if __name__ == '__main__':\n",
        "    app.run()"
      ],
      "execution_count": 0,
      "outputs": []
    }
  ]
}
